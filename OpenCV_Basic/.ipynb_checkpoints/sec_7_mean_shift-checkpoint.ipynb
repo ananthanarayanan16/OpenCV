{
 "cells": [
  {
   "cell_type": "code",
   "execution_count": 1,
   "id": "4ddc8b6e-d165-4ee6-b790-e4bdee393c7a",
   "metadata": {},
   "outputs": [],
   "source": [
    "# MEANSHIFT AND CAMSHIFT\n",
    "\n",
    "import cv2\n",
    "import numpy as np"
   ]
  },
  {
   "cell_type": "code",
   "execution_count": 2,
   "id": "b4af8406-fd9a-4d60-a6ca-816f8eac4407",
   "metadata": {},
   "outputs": [],
   "source": [
    "cap = cv2.VideoCapture(0)\n",
    "\n",
    "ret, frame = cap.read()\n",
    "\n",
    "face_cascade = cv2.CascadeClassifier('/home/srijanani/GIT/OpenCV/Data/haarcascade.xml')\n",
    "\n",
    "face_rects = face_cascade.detectMultiScale(frame)\n",
    "\n",
    "(face_x, face_y, w, h) = tuple(face_rects[0])\n",
    "\n",
    "track_window = (face_x, face_y, w, h)\n",
    "\n",
    "roi = frame[face_y, face_y+h, face_x, face_x+w]\n",
    "\n",
    "hsv_roi = cv2.cvtColor(roi, cv2.COLOR_BGR2HSV)\n",
    "\n",
    "roi_hist = cv2.calcHist([hsv_roi], [0], None, [180], [0, 180])\n",
    "\n",
    "cv2.normalize(roi_hist, roi_hist, 0, 255, cv2.NORM_MINMAX)"
   ]
  },
  {
   "cell_type": "code",
   "execution_count": null,
   "id": "58952ede-94dc-488b-b0e4-8af8516b4608",
   "metadata": {},
   "outputs": [],
   "source": [
    " "
   ]
  }
 ],
 "metadata": {
  "kernelspec": {
   "display_name": "Python 3 (ipykernel)",
   "language": "python",
   "name": "python3"
  },
  "language_info": {
   "codemirror_mode": {
    "name": "ipython",
    "version": 3
   },
   "file_extension": ".py",
   "mimetype": "text/x-python",
   "name": "python",
   "nbconvert_exporter": "python",
   "pygments_lexer": "ipython3",
   "version": "3.10.12"
  }
 },
 "nbformat": 4,
 "nbformat_minor": 5
}
