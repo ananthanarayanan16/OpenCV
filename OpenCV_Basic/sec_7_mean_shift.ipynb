{
 "cells": [
  {
   "cell_type": "code",
   "execution_count": 11,
   "id": "4ddc8b6e-d165-4ee6-b790-e4bdee393c7a",
   "metadata": {},
   "outputs": [],
   "source": [
    "# MEANSHIFT AND CAMSHIFT\n",
    "\n",
    "import cv2\n",
    "import numpy as np"
   ]
  },
  {
   "cell_type": "code",
   "execution_count": 14,
   "id": "b4af8406-fd9a-4d60-a6ca-816f8eac4407",
   "metadata": {},
   "outputs": [
    {
     "name": "stderr",
     "output_type": "stream",
     "text": [
      "[ WARN:0@2790.693] global cap_v4l.cpp:999 open VIDEOIO(V4L2:/dev/video0): can't open camera by index\n",
      "[ERROR:0@2790.694] global obsensor_uvc_stream_channel.cpp:158 getStreamChannelGroup Camera index out of range\n"
     ]
    }
   ],
   "source": [
    "cap = cv2.VideoCapture(0)\n",
    "\n",
    "ret, frame = cap.read()\n",
    "\n",
    "face_cascade = cv2.CascadeClassifier('/home/srijanani/GIT/OpenCV/Data/haarcascade.xml')\n",
    "\n",
    "face_rects = face_cascade.detectMultiScale(frame)\n",
    "\n",
    "if len(face_rects) > 0:\n",
    "    (face_x, face_y, w, h) = tuple(face_rects[0])\n",
    "    track_window = (face_x, face_y, w, h)\n",
    "    # roi = frame[face_y, face_y+h, face_x, face_x+w]\n",
    "\n",
    "    roi = frame[face_y:face_y+h, face_x:face_x+w]\n",
    "\n",
    "    \n",
    "    hsv_roi = cv2.cvtColor(roi, cv2.COLOR_BGR2HSV)\n",
    "    roi_hist = cv2.calcHist([hsv_roi], [0], None, [180], [0, 180])\n",
    "    cv2.normalize(roi_hist, roi_hist, 0, 255, cv2.NORM_MINMAX)\n",
    "    term_crit = (cv2.TERM_CRITERIA_EPS | cv2.TERM_CRITERIA_COUNT, 10, 1)\n",
    "\n",
    "    while True:\n",
    "        ret, frame = cap.read()\n",
    "        if ret == True:\n",
    "\n",
    "            hsv = cv2.cvtColor(frame, cv2.COLORBGR2HSV)\n",
    "    \n",
    "            dst = cv2.calcBackProject([hsv], [0], roi_hist, [0, 180], 1)\n",
    "    \n",
    "            # ret, track_window = cv2.meanShift(dst, track_window, term_crit)\n",
    "    \n",
    "            # x, y, w, h = track_window\n",
    "    \n",
    "            # img2 = cv2.rectangle(frame, (x, y), (x+w, y+h), (0, 0, 255), 5)\n",
    "\n",
    "            #### CAMSHIFT USING RESIZE THE WINDOW SIZE ####\n",
    "\n",
    "            ret, track_window = cv2.CamShift(dst, track_window, term_crit)\n",
    "\n",
    "            pts = cv2.boxPoints(ret)\n",
    "\n",
    "            pts = np.int0(pts)\n",
    "\n",
    "            img2 = cv2.polylines(frame, [pts], True, (0, 0, 255), 5)\n",
    "\n",
    "            ################################################\n",
    "            \n",
    "            cv2.imshow('img', img2)\n",
    "    \n",
    "            k = cv2.waitKey(1) & 0xFF\n",
    "            if k == 27:\n",
    "                break\n",
    "    \n",
    "        else:\n",
    "            break\n",
    "\n",
    "cv2.destroyAllWindows()\n",
    "cap.release()"
   ]
  },
  {
   "cell_type": "code",
   "execution_count": null,
   "id": "58952ede-94dc-488b-b0e4-8af8516b4608",
   "metadata": {},
   "outputs": [],
   "source": [
    " "
   ]
  },
  {
   "cell_type": "code",
   "execution_count": null,
   "id": "19ad5f2d-6acb-416e-8b70-f835e9f73efb",
   "metadata": {},
   "outputs": [],
   "source": []
  }
 ],
 "metadata": {
  "kernelspec": {
   "display_name": "Python 3 (ipykernel)",
   "language": "python",
   "name": "python3"
  },
  "language_info": {
   "codemirror_mode": {
    "name": "ipython",
    "version": 3
   },
   "file_extension": ".py",
   "mimetype": "text/x-python",
   "name": "python",
   "nbconvert_exporter": "python",
   "pygments_lexer": "ipython3",
   "version": "3.10.12"
  }
 },
 "nbformat": 4,
 "nbformat_minor": 5
}
