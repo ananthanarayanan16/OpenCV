{
 "cells": [
  {
   "cell_type": "code",
   "execution_count": 23,
   "id": "88eef541-8447-428f-a5b5-3f7cd9112887",
   "metadata": {},
   "outputs": [],
   "source": [
    "import cv2\n",
    "import numpy as np"
   ]
  },
  {
   "cell_type": "code",
   "execution_count": 24,
   "id": "a299b517-b6f3-4fd5-92b9-bb7bd88ba9e5",
   "metadata": {},
   "outputs": [],
   "source": [
    "img = np.zeros((500, 500, 3), dtype = 'uint8')\n",
    "cv2.namedWindow('IMAGE')"
   ]
  },
  {
   "cell_type": "code",
   "execution_count": 25,
   "id": "95060575-04f9-4d56-905f-1ec5cdd4bdd1",
   "metadata": {},
   "outputs": [],
   "source": [
    "def blue(x):\n",
    "    img[:, :, 0] = x"
   ]
  },
  {
   "cell_type": "code",
   "execution_count": 26,
   "id": "b0b23490-54a3-46c4-a823-b74d6ae9ffda",
   "metadata": {},
   "outputs": [],
   "source": [
    "def green(x):\n",
    "    img[:, :, 1] = x"
   ]
  },
  {
   "cell_type": "code",
   "execution_count": 27,
   "id": "c44a1a4b-0757-47f8-b51c-8c714b8b37f2",
   "metadata": {},
   "outputs": [],
   "source": [
    "def red(x):\n",
    "    img[:, :, 2] = x"
   ]
  },
  {
   "cell_type": "code",
   "execution_count": 28,
   "id": "2de98b8b-a3a6-426d-9d2d-fe6e0207ca70",
   "metadata": {},
   "outputs": [],
   "source": [
    "cv2.createTrackbar('blue', 'IMAGE', 0, 255, blue)"
   ]
  },
  {
   "cell_type": "code",
   "execution_count": 29,
   "id": "748e823e-1984-4ef2-aa6b-7257e93ea22f",
   "metadata": {},
   "outputs": [],
   "source": [
    "cv2.createTrackbar('green', 'IMAGE', 0, 255, green)"
   ]
  },
  {
   "cell_type": "code",
   "execution_count": 30,
   "id": "17e1461e-3df1-4177-8997-aa64746bf661",
   "metadata": {},
   "outputs": [],
   "source": [
    "cv2.createTrackbar('red', 'IMAGE', 0, 255, red)"
   ]
  },
  {
   "cell_type": "code",
   "execution_count": 31,
   "id": "4a43fb69-ea21-4835-81c3-9bea164581b8",
   "metadata": {},
   "outputs": [],
   "source": [
    "while True:\n",
    "    cv2.imshow('IMAGE', img)\n",
    "    k = cv2.waitKey(10)\n",
    "\n",
    "    if k == ord('q'):\n",
    "        break\n",
    "\n",
    "cv2.destroyAllWindows()"
   ]
  },
  {
   "cell_type": "code",
   "execution_count": null,
   "id": "fa48fc4b-5aab-4378-b91d-38b26e981644",
   "metadata": {},
   "outputs": [],
   "source": []
  },
  {
   "cell_type": "code",
   "execution_count": null,
   "id": "327f39a2-8128-480e-98b6-8226ea93d295",
   "metadata": {},
   "outputs": [],
   "source": []
  }
 ],
 "metadata": {
  "kernelspec": {
   "display_name": "Python 3 (ipykernel)",
   "language": "python",
   "name": "python3"
  },
  "language_info": {
   "codemirror_mode": {
    "name": "ipython",
    "version": 3
   },
   "file_extension": ".py",
   "mimetype": "text/x-python",
   "name": "python",
   "nbconvert_exporter": "python",
   "pygments_lexer": "ipython3",
   "version": "3.12.3"
  }
 },
 "nbformat": 4,
 "nbformat_minor": 5
}
